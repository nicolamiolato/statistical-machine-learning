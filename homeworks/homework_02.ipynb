{
 "cells": [
  {
   "cell_type": "markdown",
   "metadata": {},
   "source": [
    "## Homework 02"
   ]
  },
  {
   "cell_type": "markdown",
   "metadata": {},
   "source": [
    "### Exercise 1\n",
    "One half percent of the population has a coronavirus and a test is being developed. This test gives a false positive $3\\%$ of the time and a false negative $2\\%$ of the time. \n",
    "\n",
    "1. Find the probability that Luca is positive to the test.\n",
    "2. Suppose Luca is positive to the test. What is the probability that he has contracted the disease?"
   ]
  },
  {
   "cell_type": "markdown",
   "metadata": {},
   "source": [
    "### Exercise 2\n",
    "\n",
    "Implement the empirical cumulative distribution function $F_X(x)=$ `cdf(dist, x)` taking as inputs a `pyro.distributions` object `dist`, corresponding to the distribution of $X$, and integer value `x`.\n",
    "\n",
    "Suppose that $X\\sim \\mathcal{N}(0,1)$ and plot $F_X(x)$."
   ]
  },
  {
   "cell_type": "markdown",
   "metadata": {},
   "source": [
    "### Exercise 3\n",
    "\n",
    "Suppose the heights of male students are normally distributed with mean $180$ and unknown variance $\\sigma^2$. Suppose that $\\sigma^2$ is in the range $[22,41]$ with approximately $95\\%$ probability and assign to $\\sigma^2$ an inverse-gamma $IG(38,1110)$ prior distribution .\n",
    "\n",
    "1. Empirically verify that the parameters of the inverse-gamma distribution lead to a prior probability of approximately $95\\%$ that  $\\sigma^2\\in[22,41]$.\n",
    "2. Derive the posterior density of $\\sigma^2$ corresponding to the following data: $183, 173, 181, 170, 176, 180, 187, 176, 171, 190, 184, 173, 176, 179, 181, 186$.\n",
    "Then plot it together with the prior density.\n",
    "3. Compute the posterior density of the standard deviation $\\sigma$."
   ]
  },
  {
   "cell_type": "markdown",
   "metadata": {},
   "source": [
    "### Exercise 4\n",
    "\n",
    "Prove that the Gamma distribution is the conjugate prior distribution for the Exponential likelihood."
   ]
  }
 ],
 "metadata": {
  "kernelspec": {
   "display_name": "Python 3",
   "language": "python",
   "name": "python3"
  },
  "language_info": {
   "codemirror_mode": {
    "name": "ipython",
    "version": 3
   },
   "file_extension": ".py",
   "mimetype": "text/x-python",
   "name": "python",
   "nbconvert_exporter": "python",
   "pygments_lexer": "ipython3",
   "version": "3.6.9"
  }
 },
 "nbformat": 4,
 "nbformat_minor": 2
}
